{
 "cells": [
  {
   "cell_type": "markdown",
   "metadata": {},
   "source": [
    "# Build project"
   ]
  },
  {
   "cell_type": "code",
   "execution_count": 1,
   "metadata": {
    "dotnet_interactive": {
     "language": "pwsh"
    },
    "polyglot_notebook": {
     "kernelName": "pwsh"
    },
    "vscode": {
     "languageId": "polyglot-notebook"
    }
   },
   "outputs": [
    {
     "name": "stdout",
     "output_type": "stream",
     "text": [
      "适用于 .NET MSBuild 版本 17.8.3+195e7f5a3\n",
      "  正在确定要还原的项目…\n",
      "/Users/zhaoyiqi/Code/aelf-interactive/src/AElfExtensionDemo/AElfExtensionDemo.csproj : warning NU1603: AElf.Client 1.2.3 depends on AElf.Cryptography (>= 1.2.0-rc-19145) but AElf.Cryptography 1.2.0-rc-19145 was not found. An approximate best match of AElf.Cryptography 1.2.0 was resolved.\n",
      "/Users/zhaoyiqi/Code/aelf-interactive/src/AElfExtensionDemo/AElfExtensionDemo.csproj : warning NU1603: AElf.Client 1.2.3 depends on AElf.Types (>= 1.2.0-rc-19145) but AElf.Types 1.2.0-rc-19145 was not found. An approximate best match of AElf.Types 1.2.0 was resolved.\n",
      "  所有项目均是最新的，无法还原。\n",
      "/Users/zhaoyiqi/Code/aelf-interactive/src/AElfExtensionDemo/AElfExtensionDemo.csproj : warning NU1603: AElf.Client 1.2.3 depends on AElf.Cryptography (>= 1.2.0-rc-19145) but AElf.Cryptography 1.2.0-rc-19145 was not found. An approximate best match of AElf.Cryptography 1.2.0 was resolved.\n",
      "/Users/zhaoyiqi/Code/aelf-interactive/src/AElfExtensionDemo/AElfExtensionDemo.csproj : warning NU1603: AElf.Client 1.2.3 depends on AElf.Types (>= 1.2.0-rc-19145) but AElf.Types 1.2.0-rc-19145 was not found. An approximate best match of AElf.Types 1.2.0 was resolved.\n",
      "  AElfExtensionDemo -> /Users/zhaoyiqi/Code/aelf-interactive/src/AElfExtensionDemo/bin/Debug/net8.0/AElfExtensionDemo.dll\n",
      "\n",
      "已成功生成。\n",
      "\n",
      "/Users/zhaoyiqi/Code/aelf-interactive/src/AElfExtensionDemo/AElfExtensionDemo.csproj : warning NU1603: AElf.Client 1.2.3 depends on AElf.Cryptography (>= 1.2.0-rc-19145) but AElf.Cryptography 1.2.0-rc-19145 was not found. An approximate best match of AElf.Cryptography 1.2.0 was resolved.\n",
      "/Users/zhaoyiqi/Code/aelf-interactive/src/AElfExtensionDemo/AElfExtensionDemo.csproj : warning NU1603: AElf.Client 1.2.3 depends on AElf.Types (>= 1.2.0-rc-19145) but AElf.Types 1.2.0-rc-19145 was not found. An approximate best match of AElf.Types 1.2.0 was resolved.\n",
      "/Users/zhaoyiqi/Code/aelf-interactive/src/AElfExtensionDemo/AElfExtensionDemo.csproj : warning NU1603: AElf.Client 1.2.3 depends on AElf.Cryptography (>= 1.2.0-rc-19145) but AElf.Cryptography 1.2.0-rc-19145 was not found. An approximate best match of AElf.Cryptography 1.2.0 was resolved.\n",
      "/Users/zhaoyiqi/Code/aelf-interactive/src/AElfExtensionDemo/AElfExtensionDemo.csproj : warning NU1603: AElf.Client 1.2.3 depends on AElf.Types (>= 1.2.0-rc-19145) but AElf.Types 1.2.0-rc-19145 was not found. An approximate best match of AElf.Types 1.2.0 was resolved.\n",
      "    4 个警告\n",
      "    0 个错误\n",
      "\n",
      "已用时间 00:00:00.52\n",
      "适用于 .NET MSBuild 版本 17.8.3+195e7f5a3\n",
      "  正在确定要还原的项目…\n",
      "/Users/zhaoyiqi/Code/aelf-interactive/src/AElfExtensionDemo/AElfExtensionDemo.csproj : warning NU1603: AElf.Client 1.2.3 depends on AElf.Cryptography (>= 1.2.0-rc-19145) but AElf.Cryptography 1.2.0-rc-19145 was not found. An approximate best match of AElf.Cryptography 1.2.0 was resolved.\n",
      "/Users/zhaoyiqi/Code/aelf-interactive/src/AElfExtensionDemo/AElfExtensionDemo.csproj : warning NU1603: AElf.Client 1.2.3 depends on AElf.Types (>= 1.2.0-rc-19145) but AElf.Types 1.2.0-rc-19145 was not found. An approximate best match of AElf.Types 1.2.0 was resolved.\n",
      "  所有项目均是最新的，无法还原。\n",
      "/Users/zhaoyiqi/Code/aelf-interactive/src/AElfExtensionDemo/AElfExtensionDemo.csproj : warning NU1603: AElf.Client 1.2.3 depends on AElf.Cryptography (>= 1.2.0-rc-19145) but AElf.Cryptography 1.2.0-rc-19145 was not found. An approximate best match of AElf.Cryptography 1.2.0 was resolved.\n",
      "/Users/zhaoyiqi/Code/aelf-interactive/src/AElfExtensionDemo/AElfExtensionDemo.csproj : warning NU1603: AElf.Client 1.2.3 depends on AElf.Types (>= 1.2.0-rc-19145) but AElf.Types 1.2.0-rc-19145 was not found. An approximate best match of AElf.Types 1.2.0 was resolved.\n",
      "  AElfExtensionDemo -> /Users/zhaoyiqi/Code/aelf-interactive/src/AElfExtensionDemo/bin/Release/net8.0/AElfExtensionDemo.dll\n",
      "/Users/zhaoyiqi/Code/aelf-interactive/src/AElfExtensionDemo/AElfExtensionDemo.csproj : warning NU1603: AElf.Client 1.2.3 depends on AElf.Cryptography (>= 1.2.0-rc-19145) but AElf.Cryptography 1.2.0-rc-19145 was not found. An approximate best match of AElf.Cryptography 1.2.0 was resolved.\n",
      "/Users/zhaoyiqi/Code/aelf-interactive/src/AElfExtensionDemo/AElfExtensionDemo.csproj : warning NU1603: AElf.Client 1.2.3 depends on AElf.Types (>= 1.2.0-rc-19145) but AElf.Types 1.2.0-rc-19145 was not found. An approximate best match of AElf.Types 1.2.0 was resolved.\n",
      "\n",
      "    Directory: /Users/zhaoyiqi/Code/aelf-interactive/src/AElfExtensionDemo/bin/Release\n",
      "\n",
      "\u001b[32;1mUnixMode  \u001b[0m\u001b[32;1m       User\u001b[0m\u001b[32;1m Group     \u001b[0m\u001b[32;1m    LastWriteTime\u001b[0m\u001b[32;1m         Size\u001b[0m\u001b[32;1m Name\u001b[0m\n",
      "\u001b[32;1m--------  \u001b[0m \u001b[32;1m      ----\u001b[0m \u001b[32;1m-----     \u001b[0m \u001b[32;1m   -------------\u001b[0m \u001b[32;1m        ----\u001b[0m \u001b[32;1m----\u001b[0m\n",
      "-rw-r--r--   zhaoyiqi staff        2024/2/4 19:10         5896 \u001b[31;1mAElfExtensionDemo.1.0.0.nupkg\u001b[0m\n",
      "\n"
     ]
    }
   ],
   "source": [
    "dotnet build AElfExtensionDemo\n",
    "\n",
    "dotnet pack AElfExtensionDemo /p:PackageVersion=1.0.0\n",
    "\n",
    "Get-ChildItem -Recurse AElfExtensionDemo*.nupkg"
   ]
  },
  {
   "cell_type": "code",
   "execution_count": 2,
   "metadata": {
    "dotnet_interactive": {
     "language": "csharp"
    },
    "polyglot_notebook": {
     "kernelName": "csharp"
    },
    "vscode": {
     "languageId": "polyglot-notebook"
    }
   },
   "outputs": [
    {
     "data": {
      "text/plain": [
       "✅ The package is there!"
      ]
     },
     "metadata": {},
     "output_type": "display_data"
    },
    {
     "data": {
      "text/plain": [
       "nuget:/Users/zhaoyiqi/Code/aelf-interactive/src/AElfExtensionDemo/bin/Release"
      ]
     },
     "metadata": {},
     "output_type": "display_data"
    }
   ],
   "source": [
    "using System.IO;\n",
    "\n",
    "// Create an absolute path since #i doesn't like \n",
    "var debugOutputFolder = new DirectoryInfo(Path.Combine(\"AElfExtensionDemo\", \"bin\", \"Release\")).FullName;\n",
    "\n",
    "if (File.Exists(Path.Combine(debugOutputFolder, \"AElfExtensionDemo.1.0.0.nupkg\")))\n",
    "{\n",
    "    \"✅ The package is there!\".Display();\n",
    "} \n",
    "else\n",
    "{\n",
    "    \"❌ Something must have gone wrong with the build. The package isn't there.\".Display();\n",
    "}\n",
    "\n",
    "var nugetSource = $\"nuget:{debugOutputFolder}\";\n",
    "\n",
    "nugetSource.Display();"
   ]
  },
  {
   "cell_type": "code",
   "execution_count": 3,
   "metadata": {
    "dotnet_interactive": {
     "language": "csharp"
    },
    "polyglot_notebook": {
     "kernelName": "csharp"
    },
    "vscode": {
     "languageId": "polyglot-notebook"
    }
   },
   "outputs": [
    {
     "data": {
      "text/html": [
       "<div><div><strong>Restore sources</strong><ul><li><span>/Users/zhaoyiqi/Code/aelf-interactive/src/AElfExtensionDemo/bin/Release</span></li></ul></div><div></div><div></div></div>"
      ]
     },
     "metadata": {},
     "output_type": "display_data"
    }
   ],
   "source": [
    "#i @csharp:nugetSource"
   ]
  },
  {
   "cell_type": "code",
   "execution_count": 4,
   "metadata": {
    "dotnet_interactive": {
     "language": "csharp"
    },
    "polyglot_notebook": {
     "kernelName": "csharp"
    },
    "vscode": {
     "languageId": "polyglot-notebook"
    }
   },
   "outputs": [
    {
     "data": {
      "text/html": [
       "<div><div><strong>Restore sources</strong><ul><li><span>/Users/zhaoyiqi/Code/aelf-interactive/src/AElfExtensionDemo/bin/Release</span></li></ul></div><div></div><div><strong>Installed Packages</strong><ul><li><span>AElfExtensionDemo, 1.0.0</span></li></ul></div></div>"
      ]
     },
     "metadata": {},
     "output_type": "display_data"
    },
    {
     "data": {
      "text/plain": [
       "Loading extension script from `/Users/zhaoyiqi/.nuget/packages/aelfextensiondemo/1.0.0/interactive-extensions/dotnet/extension.dib`"
      ]
     },
     "metadata": {},
     "output_type": "display_data"
    },
    {
     "data": {
      "text/html": [
       "<div><code>AElfExtensionDemo</code> is loaded. It helps you query information from aelf node. Try it by running: <code>#!aelf -c</code> or <code>#!aelf -t {txId}</code></div>"
      ]
     },
     "metadata": {},
     "output_type": "display_data"
    }
   ],
   "source": [
    "#r \"nuget:AElfExtensionDemo,1.0.0\""
   ]
  },
  {
   "cell_type": "code",
   "execution_count": 5,
   "metadata": {
    "dotnet_interactive": {
     "language": "csharp"
    },
    "polyglot_notebook": {
     "kernelName": "csharp"
    },
    "vscode": {
     "languageId": "polyglot-notebook"
    }
   },
   "outputs": [
    {
     "data": {
      "text/html": [
       "<div>ChainId: tDVW\n",
       "Height: 101470048\n",
       "Hash: f9b1a6aca705e4178e0886ec06450b1293dc725ef93980833e69133ef0ec3618</div>"
      ]
     },
     "metadata": {},
     "output_type": "display_data"
    }
   ],
   "source": [
    "#!aelf -i x"
   ]
  }
 ],
 "metadata": {
  "language_info": {
   "name": "python"
  }
 },
 "nbformat": 4,
 "nbformat_minor": 2
}
